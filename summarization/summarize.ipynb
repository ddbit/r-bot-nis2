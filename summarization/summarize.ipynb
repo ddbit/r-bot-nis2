{
 "cells": [
  {
   "cell_type": "markdown",
   "metadata": {},
   "source": [
    "## Import Ollama and load Mistral"
   ]
  },
  {
   "cell_type": "code",
   "execution_count": 2,
   "metadata": {},
   "outputs": [],
   "source": [
    "from llama_index.llms import Ollama\n",
    "from llama_index import ServiceContext\n",
    "llm = Ollama(model=\"mistral\", request_timeout=20.0)\n",
    "service_context = ServiceContext.from_defaults(llm=llm,embed_model=\"local\")"
   ]
  },
  {
   "cell_type": "code",
   "execution_count": null,
   "metadata": {},
   "outputs": [],
   "source": [
    "print(\"loading data ...\")\n",
    "from llama_index import SimpleDirectoryReader\n",
    "reader = SimpleDirectoryReader(\n",
    "    input_files=[\"../docs/dichiarazione-voto.txt\"]\n",
    ")\n",
    "docs = reader.load_data()\n",
    "text = docs[0].text\n",
    "print(\"DONE\")"
   ]
  }
 ],
 "metadata": {
  "kernelspec": {
   "display_name": ".flaskenv",
   "language": "python",
   "name": "python3"
  },
  "language_info": {
   "codemirror_mode": {
    "name": "ipython",
    "version": 3
   },
   "file_extension": ".py",
   "mimetype": "text/x-python",
   "name": "python",
   "nbconvert_exporter": "python",
   "pygments_lexer": "ipython3",
   "version": "3.9.4"
  }
 },
 "nbformat": 4,
 "nbformat_minor": 2
}
